{
 "cells": [
  {
   "cell_type": "code",
   "execution_count": 4,
   "id": "2c792ac8-802f-4877-af4c-8e29322088d2",
   "metadata": {},
   "outputs": [],
   "source": [
    "from pathlib import Path\n",
    "from sqlalchemy import create_engine, text\n",
    "from tqdm import tqdm\n",
    "from datetime import datetime, date, timedelta\n",
    "from sklearn.metrics import (\n",
    "    accuracy_score,\n",
    "    precision_score,\n",
    "    recall_score,\n",
    "    f1_score,\n",
    "    roc_auc_score,\n",
    "    classification_report, \n",
    "    confusion_matrix, \n",
    "    ConfusionMatrixDisplay\n",
    ")\n",
    "from xgboost import XGBClassifier, plot_importance\n",
    "\n",
    "import pandas as pd\n",
    "import numpy as np\n",
    "import matplotlib.pyplot as plt\n",
    "import seaborn as sns\n",
    "import time\n",
    "import sys"
   ]
  },
  {
   "cell_type": "code",
   "execution_count": 5,
   "id": "e7ee9221-5f90-414e-a57c-6744f44cba17",
   "metadata": {},
   "outputs": [],
   "source": [
    "ROOT_DIR = Path.cwd().parent\n",
    "if str(ROOT_DIR) not in sys.path:\n",
    "    sys.path.append(str(ROOT_DIR))\n",
    "\n",
    "pd.set_option('display.max_columns', None)"
   ]
  },
  {
   "cell_type": "code",
   "execution_count": 6,
   "id": "afacc484-344b-4743-94e4-8fef82e2df10",
   "metadata": {},
   "outputs": [],
   "source": [
    "from config import DB_URI\n",
    "from sklearn.metrics import (\n",
    "    roc_curve, RocCurveDisplay,\n",
    "    precision_recall_curve, PrecisionRecallDisplay\n",
    ")\n",
    "from sklearn.calibration import calibration_curve"
   ]
  },
  {
   "cell_type": "code",
   "execution_count": 7,
   "id": "7b127ef1-817e-48e4-97ab-6753ca21f978",
   "metadata": {},
   "outputs": [],
   "source": [
    "engine = create_engine(DB_URI)\n",
    "connection = engine.connect()"
   ]
  },
  {
   "cell_type": "code",
   "execution_count": 55,
   "id": "c97cac8a-3ec3-4aa0-9d08-ca94e9748069",
   "metadata": {},
   "outputs": [],
   "source": [
    "connection.close()  # Закрываем сломанное соединение\n",
    "\n",
    "connection = engine.connect()  # Открываем новое чистое соединение"
   ]
  },
  {
   "cell_type": "code",
   "execution_count": 8,
   "id": "e33415e9-8be4-422e-84f3-0cdb52c0aa57",
   "metadata": {},
   "outputs": [
    {
     "name": "stdout",
     "output_type": "stream",
     "text": [
      "Джеты: 49281 строк\n"
     ]
    }
   ],
   "source": [
    "from sqlalchemy import text\n",
    "\n",
    "query_jet = \"\"\"\n",
    "SELECT \n",
    "    id,\n",
    "    alarm_id,\n",
    "    probability,\n",
    "    identifier,\n",
    "    CASE \n",
    "        WHEN business_status IS NULL THEN 0\n",
    "        WHEN business_status = 'Investigation' THEN 1\n",
    "        ELSE NULL\n",
    "    END AS business_status_numeric,\n",
    "    created_at\n",
    "FROM incidents\n",
    "WHERE \n",
    "    identifier LIKE 'S.2%'\n",
    "ORDER BY id\n",
    "\"\"\"\n",
    "\n",
    "df_jet = pd.read_sql_query(text(query_jet), connection)\n",
    "\n",
    "print(f\"Джеты: {df_jet.shape[0]} строк\")"
   ]
  },
  {
   "cell_type": "code",
   "execution_count": 9,
   "id": "5d49dbab-6cd5-4014-ba7b-250e3a211c19",
   "metadata": {},
   "outputs": [
    {
     "name": "stdout",
     "output_type": "stream",
     "text": [
      "Количество бизнес-статусов = 1: 7379\n",
      "Общее количество строк: 49281\n",
      "Процент 1: 14.97%\n"
     ]
    }
   ],
   "source": [
    "count_1 = (df_jet[\"business_status_numeric\"] == 1).sum()\n",
    "print(f\"Количество бизнес-статусов = 1: {count_1}\")\n",
    "\n",
    "total = len(df_jet)\n",
    "print(f\"Общее количество строк: {total}\")\n",
    "\n",
    "percent = (count_1 / total) * 100\n",
    "print(f\"Процент 1: {percent:.2f}%\")"
   ]
  },
  {
   "cell_type": "code",
   "execution_count": 12,
   "id": "b773e54f-abcb-4c0d-86b4-2c1b745c9538",
   "metadata": {},
   "outputs": [
    {
     "name": "stdout",
     "output_type": "stream",
     "text": [
      "Количество пропусков в probability: 72\n"
     ]
    }
   ],
   "source": [
    "num_missing = df_jet[\"probability\"].isna().sum()\n",
    "\n",
    "print(f\"Количество пропусков в probability: {num_missing}\")"
   ]
  },
  {
   "cell_type": "code",
   "execution_count": 13,
   "id": "a75b380a-1d9d-4cf4-9ae8-db413d895c5e",
   "metadata": {},
   "outputs": [],
   "source": [
    "df_jet = df_jet.dropna(subset=[\"probability\"]).reset_index(drop=True)"
   ]
  },
  {
   "cell_type": "code",
   "execution_count": 15,
   "id": "9e8ee50c-1e3a-4abe-82b9-53d23231c122",
   "metadata": {},
   "outputs": [
    {
     "name": "stdout",
     "output_type": "stream",
     "text": [
      "Количество таких случаев: 495\n"
     ]
    },
    {
     "data": {
      "text/html": [
       "<div>\n",
       "<style scoped>\n",
       "    .dataframe tbody tr th:only-of-type {\n",
       "        vertical-align: middle;\n",
       "    }\n",
       "\n",
       "    .dataframe tbody tr th {\n",
       "        vertical-align: top;\n",
       "    }\n",
       "\n",
       "    .dataframe thead th {\n",
       "        text-align: right;\n",
       "    }\n",
       "</style>\n",
       "<table border=\"1\" class=\"dataframe\">\n",
       "  <thead>\n",
       "    <tr style=\"text-align: right;\">\n",
       "      <th></th>\n",
       "      <th>id</th>\n",
       "      <th>alarm_id</th>\n",
       "      <th>probability</th>\n",
       "      <th>identifier</th>\n",
       "      <th>business_status_numeric</th>\n",
       "      <th>created_at</th>\n",
       "    </tr>\n",
       "  </thead>\n",
       "  <tbody>\n",
       "    <tr>\n",
       "      <th>46</th>\n",
       "      <td>149514</td>\n",
       "      <td>67eb4403ce3fbdf39c51324e</td>\n",
       "      <td>0.0</td>\n",
       "      <td>S.268656</td>\n",
       "      <td>1</td>\n",
       "      <td>2025-04-13 14:39:30.916611</td>\n",
       "    </tr>\n",
       "    <tr>\n",
       "      <th>101</th>\n",
       "      <td>150488</td>\n",
       "      <td>67eb60aace3fbdf39c5bbcdf</td>\n",
       "      <td>0.0</td>\n",
       "      <td>S.262532</td>\n",
       "      <td>1</td>\n",
       "      <td>2025-04-13 14:42:11.532470</td>\n",
       "    </tr>\n",
       "    <tr>\n",
       "      <th>124</th>\n",
       "      <td>150745</td>\n",
       "      <td>67eb65e8215780922d81bb73</td>\n",
       "      <td>0.0</td>\n",
       "      <td>S.223169</td>\n",
       "      <td>1</td>\n",
       "      <td>2025-04-13 14:43:11.727433</td>\n",
       "    </tr>\n",
       "    <tr>\n",
       "      <th>333</th>\n",
       "      <td>153172</td>\n",
       "      <td>67eba119110c21779e9fbd8c</td>\n",
       "      <td>0.0</td>\n",
       "      <td>S.254001</td>\n",
       "      <td>1</td>\n",
       "      <td>2025-04-13 14:48:36.828124</td>\n",
       "    </tr>\n",
       "    <tr>\n",
       "      <th>377</th>\n",
       "      <td>153549</td>\n",
       "      <td>67eba9f7110c21779ea0c632</td>\n",
       "      <td>0.0</td>\n",
       "      <td>S.235837</td>\n",
       "      <td>1</td>\n",
       "      <td>2025-04-13 14:49:24.685724</td>\n",
       "    </tr>\n",
       "  </tbody>\n",
       "</table>\n",
       "</div>"
      ],
      "text/plain": [
       "         id                  alarm_id  probability identifier  \\\n",
       "46   149514  67eb4403ce3fbdf39c51324e          0.0   S.268656   \n",
       "101  150488  67eb60aace3fbdf39c5bbcdf          0.0   S.262532   \n",
       "124  150745  67eb65e8215780922d81bb73          0.0   S.223169   \n",
       "333  153172  67eba119110c21779e9fbd8c          0.0   S.254001   \n",
       "377  153549  67eba9f7110c21779ea0c632          0.0   S.235837   \n",
       "\n",
       "     business_status_numeric                 created_at  \n",
       "46                         1 2025-04-13 14:39:30.916611  \n",
       "101                        1 2025-04-13 14:42:11.532470  \n",
       "124                        1 2025-04-13 14:43:11.727433  \n",
       "333                        1 2025-04-13 14:48:36.828124  \n",
       "377                        1 2025-04-13 14:49:24.685724  "
      ]
     },
     "execution_count": 15,
     "metadata": {},
     "output_type": "execute_result"
    }
   ],
   "source": [
    "df_low_prob_real_alarm = df_jet[\n",
    "    (df_jet[\"probability\"] >= 0) & (df_jet[\"probability\"] <= 5) & \n",
    "    (df_jet[\"business_status_numeric\"] == 1)\n",
    "]\n",
    "\n",
    "print(f\"Количество таких случаев: {len(df_low_prob_real_alarm)}\")\n",
    "df_low_prob_real_alarm.head()"
   ]
  },
  {
   "cell_type": "code",
   "execution_count": 16,
   "id": "1b7dfc47-afc4-414a-8920-ad5b6835235b",
   "metadata": {},
   "outputs": [],
   "source": [
    "with open(\"low_prob_real_alarm.txt\", \"w\", encoding=\"utf-8\") as f:\n",
    "    f.write(df_low_prob_real_alarm.to_string(index=False))\n"
   ]
  },
  {
   "cell_type": "code",
   "execution_count": 44,
   "id": "daf2571a-79cf-4cf2-aec3-2d61149ac221",
   "metadata": {},
   "outputs": [
    {
     "name": "stdout",
     "output_type": "stream",
     "text": [
      "Threshold: 96.00 | Precision(1): 0.815 | Accuracy: 0.863\n",
      "Threshold: 97.00 | Precision(1): 0.854 | Accuracy: 0.856\n",
      "Threshold: 98.00 | Precision(1): 1.000 | Accuracy: 0.850\n",
      "\n",
      "Лучший threshold 16-25 апреля: 96.00% с precision(1)=0.815 и accuracy=0.863\n"
     ]
    }
   ],
   "source": [
    "from sklearn.metrics import precision_score, accuracy_score\n",
    "\n",
    "best_threshold = None\n",
    "best_precision = 0\n",
    "best_accuracy = 0\n",
    "\n",
    "for threshold in range(0, 100, 1):  # 0%, 1%, ..., 99%\n",
    "    t = threshold\n",
    "    preds = (df_jet_after_25[\"probability\"] > t).astype(int)\n",
    "    y_true = df_jet_after_25[\"business_status_numeric\"].fillna(0).astype(int)\n",
    "    \n",
    "    precision_1 = precision_score(y_true, preds, pos_label=1, zero_division=0)\n",
    "    accuracy = accuracy_score(y_true, preds)\n",
    "    \n",
    "    if precision_1 >= 0.8:\n",
    "        print(f\"Threshold: {t:.2f} | Precision(1): {precision_1:.3f} | Accuracy: {accuracy:.3f}\")\n",
    "        \n",
    "        if accuracy > best_accuracy:\n",
    "            best_accuracy = accuracy\n",
    "            best_precision = precision_1\n",
    "            best_threshold = t\n",
    "\n",
    "if best_threshold is not None:\n",
    "    print(f\"\\nЛучший threshold 16-25 апреля: {best_threshold:.2f}% с precision(1)={best_precision:.3f} и accuracy={best_accuracy:.3f}\")\n",
    "else:\n",
    "    print(\"\\nНе найден threshold с precision(1) >= 0.95\")\n"
   ]
  },
  {
   "cell_type": "code",
   "execution_count": 45,
   "id": "be40c100-4d73-4a22-a7c7-30f8e68a374a",
   "metadata": {},
   "outputs": [
    {
     "name": "stdout",
     "output_type": "stream",
     "text": [
      "Threshold: 96.00 | Precision(1): 0.827 | Accuracy: 0.850\n",
      "Threshold: 97.00 | Precision(1): 0.800 | Accuracy: 0.849\n",
      "Threshold: 98.00 | Precision(1): 1.000 | Accuracy: 0.849\n",
      "\n",
      "Лучший threshold 25-27 апреля: 96.00% с precision(1)=0.827 и accuracy=0.850\n"
     ]
    }
   ],
   "source": [
    "from sklearn.metrics import precision_score, accuracy_score\n",
    "\n",
    "best_threshold = None\n",
    "best_precision = 0\n",
    "best_accuracy = 0\n",
    "\n",
    "for threshold in range(0, 100, 1):  # 0%, 1%, ..., 99%\n",
    "    t = threshold\n",
    "    preds = (df_jet_before_25[\"probability\"] > t).astype(int)\n",
    "    y_true = df_jet_before_25[\"business_status_numeric\"].fillna(0).astype(int)\n",
    "    \n",
    "    precision_1 = precision_score(y_true, preds, pos_label=1, zero_division=0)\n",
    "    accuracy = accuracy_score(y_true, preds)\n",
    "    \n",
    "    if precision_1 >= 0.8:\n",
    "        print(f\"Threshold: {t:.2f} | Precision(1): {precision_1:.3f} | Accuracy: {accuracy:.3f}\")\n",
    "        \n",
    "        if accuracy > best_accuracy:\n",
    "            best_accuracy = accuracy\n",
    "            best_precision = precision_1\n",
    "            best_threshold = t\n",
    "\n",
    "if best_threshold is not None:\n",
    "    print(f\"\\nЛучший threshold 25-27 апреля: {best_threshold:.2f}% с precision(1)={best_precision:.3f} и accuracy={best_accuracy:.3f}\")\n",
    "else:\n",
    "    print(\"\\nНе найден threshold с precision(1) >= 0.95\")\n"
   ]
  },
  {
   "cell_type": "code",
   "execution_count": 47,
   "id": "2d04237f-a30d-498b-9908-87d3b62c51be",
   "metadata": {},
   "outputs": [
    {
     "data": {
      "image/png": "[encoded data removed]",
      "text/plain": [
       "<Figure size 640x480 with 1 Axes>"
      ]
     },
     "metadata": {},
     "output_type": "display_data"
    }
   ],
   "source": [
    "from sklearn.metrics import precision_recall_curve\n",
    "import matplotlib.pyplot as plt\n",
    "\n",
    "y_true = df_jet_after_25[\"business_status_numeric\"].fillna(0).astype(int)\n",
    "y_scores = df_jet_after_25[\"probability\"]/100\n",
    "\n",
    "precision, recall, thresholds = precision_recall_curve(y_true, y_scores)\n",
    "\n",
    "plt.plot(recall, precision)\n",
    "plt.xlabel(\"Recall\")\n",
    "plt.ylabel(\"Precision\")\n",
    "plt.title(\"Precision-Recall Curve\")\n",
    "plt.grid(True)\n",
    "plt.show()\n"
   ]
  },
  {
   "cell_type": "code",
   "execution_count": 49,
   "id": "3636af1f-7fd5-4384-a279-636f66d9c723",
   "metadata": {},
   "outputs": [
    {
     "data": {
      "image/png": "[encoded data removed]",
      "text/plain": [
       "<Figure size 640x480 with 1 Axes>"
      ]
     },
     "metadata": {},
     "output_type": "display_data"
    }
   ],
   "source": [
    "from sklearn.metrics import precision_recall_curve\n",
    "import matplotlib.pyplot as plt\n",
    "\n",
    "# Убираем строки, где probability был NaN\n",
    "mask = df_jet_before_25[\"probability\"].notna()\n",
    "\n",
    "y_true = df_jet_before_25.loc[mask, \"business_status_numeric\"].fillna(0).astype(int)\n",
    "y_scores = df_jet_before_25.loc[mask, \"probability\"] / 100\n",
    "\n",
    "precision, recall, thresholds = precision_recall_curve(y_true, y_scores)\n",
    "\n",
    "plt.plot(recall, precision)\n",
    "plt.xlabel(\"Recall\")\n",
    "plt.ylabel(\"Precision\")\n",
    "plt.title(\"Precision-Recall Curve\")\n",
    "plt.grid(True)\n",
    "plt.show()\n"
   ]
  },
  {
   "cell_type": "code",
   "execution_count": null,
   "id": "820c4d17-8445-48f8-b3a3-3916e86ab029",
   "metadata": {},
   "outputs": [],
   "source": []
  },
  {
   "cell_type": "code",
   "execution_count": null,
   "id": "a7a4e844-af92-467f-b5bd-85a1a96d4836",
   "metadata": {},
   "outputs": [],
   "source": []
  },
  {
   "cell_type": "code",
   "execution_count": null,
   "id": "7786ff59-d359-4040-b209-b8f1d3714a21",
   "metadata": {},
   "outputs": [],
   "source": []
  },
  {
   "cell_type": "code",
   "execution_count": null,
   "id": "41d14baf-efc8-46bf-b9cd-ed8b525eb3a3",
   "metadata": {},
   "outputs": [],
   "source": []
  },
  {
   "cell_type": "code",
   "execution_count": null,
   "id": "ba66bdd0-5913-4566-bedd-609c6173287a",
   "metadata": {},
   "outputs": [],
   "source": []
  },
  {
   "cell_type": "markdown",
   "id": "e3ea46ef-d6f5-4ea8-bf09-1c17f24caad0",
   "metadata": {},
   "source": [
    "____________________"
   ]
  },
  {
   "cell_type": "code",
   "execution_count": 50,
   "id": "fd56f525-a5c8-4f16-a3c5-d7a171978617",
   "metadata": {},
   "outputs": [
    {
     "data": {
      "text/html": [
       "<div>\n",
       "<style scoped>\n",
       "    .dataframe tbody tr th:only-of-type {\n",
       "        vertical-align: middle;\n",
       "    }\n",
       "\n",
       "    .dataframe tbody tr th {\n",
       "        vertical-align: top;\n",
       "    }\n",
       "\n",
       "    .dataframe thead th {\n",
       "        text-align: right;\n",
       "    }\n",
       "</style>\n",
       "<table border=\"1\" class=\"dataframe\">\n",
       "  <thead>\n",
       "    <tr style=\"text-align: right;\">\n",
       "      <th></th>\n",
       "      <th>id</th>\n",
       "      <th>probability</th>\n",
       "      <th>business_status_numeric</th>\n",
       "      <th>created_at</th>\n",
       "    </tr>\n",
       "  </thead>\n",
       "  <tbody>\n",
       "    <tr>\n",
       "      <th>0</th>\n",
       "      <td>148600</td>\n",
       "      <td>0.0</td>\n",
       "      <td>0</td>\n",
       "      <td>2025-04-13 14:37:36.017751</td>\n",
       "    </tr>\n",
       "    <tr>\n",
       "      <th>1</th>\n",
       "      <td>148676</td>\n",
       "      <td>0.0</td>\n",
       "      <td>0</td>\n",
       "      <td>2025-04-13 14:37:44.830754</td>\n",
       "    </tr>\n",
       "    <tr>\n",
       "      <th>2</th>\n",
       "      <td>148709</td>\n",
       "      <td>0.0</td>\n",
       "      <td>0</td>\n",
       "      <td>2025-04-13 14:37:49.971186</td>\n",
       "    </tr>\n",
       "    <tr>\n",
       "      <th>3</th>\n",
       "      <td>148742</td>\n",
       "      <td>0.0</td>\n",
       "      <td>0</td>\n",
       "      <td>2025-04-13 14:37:53.310317</td>\n",
       "    </tr>\n",
       "    <tr>\n",
       "      <th>4</th>\n",
       "      <td>148795</td>\n",
       "      <td>45.0</td>\n",
       "      <td>1</td>\n",
       "      <td>2025-04-13 14:37:59.560333</td>\n",
       "    </tr>\n",
       "    <tr>\n",
       "      <th>...</th>\n",
       "      <td>...</td>\n",
       "      <td>...</td>\n",
       "      <td>...</td>\n",
       "      <td>...</td>\n",
       "    </tr>\n",
       "    <tr>\n",
       "      <th>39205</th>\n",
       "      <td>445626</td>\n",
       "      <td>85.0</td>\n",
       "      <td>0</td>\n",
       "      <td>2025-04-24 23:55:36.306383</td>\n",
       "    </tr>\n",
       "    <tr>\n",
       "      <th>39206</th>\n",
       "      <td>445647</td>\n",
       "      <td>14.0</td>\n",
       "      <td>0</td>\n",
       "      <td>2025-04-24 23:58:25.004889</td>\n",
       "    </tr>\n",
       "    <tr>\n",
       "      <th>39207</th>\n",
       "      <td>445649</td>\n",
       "      <td>76.0</td>\n",
       "      <td>0</td>\n",
       "      <td>2025-04-24 23:58:25.578176</td>\n",
       "    </tr>\n",
       "    <tr>\n",
       "      <th>39208</th>\n",
       "      <td>445653</td>\n",
       "      <td>21.0</td>\n",
       "      <td>0</td>\n",
       "      <td>2025-04-24 23:58:43.269006</td>\n",
       "    </tr>\n",
       "    <tr>\n",
       "      <th>39209</th>\n",
       "      <td>445665</td>\n",
       "      <td>2.0</td>\n",
       "      <td>0</td>\n",
       "      <td>2025-04-24 23:59:46.110757</td>\n",
       "    </tr>\n",
       "  </tbody>\n",
       "</table>\n",
       "<p>39210 rows × 4 columns</p>\n",
       "</div>"
      ],
      "text/plain": [
       "           id  probability  business_status_numeric                 created_at\n",
       "0      148600          0.0                        0 2025-04-13 14:37:36.017751\n",
       "1      148676          0.0                        0 2025-04-13 14:37:44.830754\n",
       "2      148709          0.0                        0 2025-04-13 14:37:49.971186\n",
       "3      148742          0.0                        0 2025-04-13 14:37:53.310317\n",
       "4      148795         45.0                        1 2025-04-13 14:37:59.560333\n",
       "...       ...          ...                      ...                        ...\n",
       "39205  445626         85.0                        0 2025-04-24 23:55:36.306383\n",
       "39206  445647         14.0                        0 2025-04-24 23:58:25.004889\n",
       "39207  445649         76.0                        0 2025-04-24 23:58:25.578176\n",
       "39208  445653         21.0                        0 2025-04-24 23:58:43.269006\n",
       "39209  445665          2.0                        0 2025-04-24 23:59:46.110757\n",
       "\n",
       "[39210 rows x 4 columns]"
      ]
     },
     "execution_count": 50,
     "metadata": {},
     "output_type": "execute_result"
    }
   ],
   "source": [
    "df_jet_before_25"
   ]
  },
  {
   "cell_type": "code",
   "execution_count": 51,
   "id": "1616c22e-ea6a-4868-9522-f32555a0e3d1",
   "metadata": {},
   "outputs": [
    {
     "data": {
      "text/plain": [
       "business_status_numeric\n",
       "0    33284\n",
       "1     5926\n",
       "Name: count, dtype: int64"
      ]
     },
     "execution_count": 51,
     "metadata": {},
     "output_type": "execute_result"
    }
   ],
   "source": [
    "df_jet_before_25.business_status_numeric.value_counts()"
   ]
  },
  {
   "cell_type": "code",
   "execution_count": null,
   "id": "c632ce50-641b-4779-9593-ec13e0df61a8",
   "metadata": {},
   "outputs": [],
   "source": []
  }
 ],
 "metadata": {
  "kernelspec": {
   "display_name": "Python 3 (ipykernel)",
   "language": "python",
   "name": "python3"
  },
  "language_info": {
   "codemirror_mode": {
    "name": "ipython",
    "version": 3
   },
   "file_extension": ".py",
   "mimetype": "text/x-python",
   "name": "python",
   "nbconvert_exporter": "python",
   "pygments_lexer": "ipython3",
   "version": "3.10.12"
  }
 },
 "nbformat": 4,
 "nbformat_minor": 5
}
