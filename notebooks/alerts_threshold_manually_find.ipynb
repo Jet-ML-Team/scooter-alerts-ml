{
 "cells": [
  {
   "cell_type": "code",
   "execution_count": 1,
   "id": "7497d1c7-384d-4fbc-bdb9-2bbf7a19dc48",
   "metadata": {},
   "outputs": [],
   "source": [
    "from pathlib import Path\n",
    "from sqlalchemy import create_engine, text\n",
    "from tqdm import tqdm\n",
    "from datetime import datetime, date, timedelta\n",
    "from sklearn.metrics import (\n",
    "    accuracy_score,\n",
    "    precision_score,\n",
    "    recall_score,\n",
    "    f1_score,\n",
    "    roc_auc_score,\n",
    "    classification_report, \n",
    "    confusion_matrix, \n",
    "    ConfusionMatrixDisplay\n",
    ")\n",
    "from xgboost import XGBClassifier, plot_importance\n",
    "\n",
    "import pandas as pd\n",
    "import numpy as np\n",
    "import matplotlib.pyplot as plt\n",
    "import seaborn as sns\n",
    "import time\n",
    "import sys"
   ]
  },
  {
   "cell_type": "code",
   "execution_count": 2,
   "id": "adb5e9d5-8dc6-4cca-a65e-c89b557f7247",
   "metadata": {},
   "outputs": [],
   "source": [
    "ROOT_DIR = Path.cwd().parent\n",
    "if str(ROOT_DIR) not in sys.path:\n",
    "    sys.path.append(str(ROOT_DIR))\n",
    "\n",
    "pd.set_option('display.max_columns', None)"
   ]
  },
  {
   "cell_type": "code",
   "execution_count": 3,
   "id": "490b945c-4208-4135-be29-0fb68180bf67",
   "metadata": {},
   "outputs": [],
   "source": [
    "from config import DB_URI\n",
    "from sklearn.metrics import (\n",
    "    roc_curve, RocCurveDisplay,\n",
    "    precision_recall_curve, PrecisionRecallDisplay\n",
    ")\n",
    "from sklearn.calibration import calibration_curve"
   ]
  },
  {
   "cell_type": "code",
   "execution_count": 16,
   "id": "6ce60834-3e5f-46dd-8a8f-8c0e082534ec",
   "metadata": {},
   "outputs": [],
   "source": [
    "engine = create_engine(DB_URI)\n",
    "connection = engine.connect()"
   ]
  },
  {
   "cell_type": "code",
   "execution_count": 6,
   "id": "324a51f2-f00f-4dfb-ba01-9f085962df26",
   "metadata": {},
   "outputs": [],
   "source": [
    "test_query = f\"\"\"\n",
    "SELECT *\n",
    "FROM incidents\n",
    "LIMIT 1;\n",
    "\"\"\"\n",
    "\n",
    "    identifier,\n",
    "    CASE \n",
    "        WHEN business_status IS NULL THEN 0\n",
    "        WHEN business_status = 'Investigation' THEN 1\n",
    "        ELSE NULL\n",
    "    END AS business_status_numeric,"
   ]
  },
  {
   "cell_type": "code",
   "execution_count": 49,
   "id": "36745648-59a5-4ea2-9d9d-b3d25ecc96f1",
   "metadata": {},
   "outputs": [],
   "source": [
    "query = f\"\"\"\n",
    "SELECT alarm_id, created_at, probability, brand,\n",
    "    CASE \n",
    "        WHEN business_status IS NULL THEN 0\n",
    "        WHEN business_status = 'Investigation' THEN 1\n",
    "        ELSE NULL\n",
    "    END AS business_status_numeric\n",
    "FROM incidents\n",
    "WHERE brand = 'JET';\n",
    "\"\"\""
   ]
  },
  {
   "cell_type": "code",
   "execution_count": 50,
   "id": "675e870c-7cb6-4377-b131-bf0440c7d2e7",
   "metadata": {},
   "outputs": [
    {
     "name": "stdout",
     "output_type": "stream",
     "text": [
      "Датафрейм: 4889 строк\n"
     ]
    }
   ],
   "source": [
    "df = pd.read_sql_query(text(query), connection)\n",
    "\n",
    "print(f\"Датафрейм: {df.shape[0]} строк\")"
   ]
  },
  {
   "cell_type": "code",
   "execution_count": 9,
   "id": "8aec393d-4190-4ba9-9363-c732d87508c9",
   "metadata": {},
   "outputs": [
    {
     "data": {
      "text/plain": [
       "Index(['id', 'alarm_id', 'alarm_type', 'business_status',\n",
       "       'business_sub_status', 'create_date_time_utc', 'operator_choice_time',\n",
       "       'operator_name', 'tracker_id', 'last_order_id', 'last_order_start',\n",
       "       'last_order_end', 'order_track', 'after_order_track',\n",
       "       'end_order_location', 'telemetry', 'after_order_start',\n",
       "       'after_order_end', 'probability', 'model_info', 'created_at',\n",
       "       'identifier', 'last_order_track', 'end_order_zones',\n",
       "       'end_order_zones_by_radius', 'alarm_zones_by_radius', 'alarms',\n",
       "       'events', 'comments', 'status', 'data', 'technical_incident', 'city',\n",
       "       'vendor_id', 'brand'],\n",
       "      dtype='object')"
      ]
     },
     "execution_count": 9,
     "metadata": {},
     "output_type": "execute_result"
    }
   ],
   "source": [
    "df.columns"
   ]
  },
  {
   "cell_type": "code",
   "execution_count": 15,
   "id": "e3beb175-548c-4479-a6df-4d4c54955a92",
   "metadata": {},
   "outputs": [],
   "source": [
    "connection.close()  # Закрываем сломанное соединение\n",
    "\n",
    "connection = engine.connect()  # Открываем новое чистое соединение"
   ]
  },
  {
   "cell_type": "code",
   "execution_count": 51,
   "id": "2b2ee201-7b56-43ee-9f39-d8f5a76c8aed",
   "metadata": {},
   "outputs": [
    {
     "data": {
      "text/plain": [
       "array(['JET'], dtype=object)"
      ]
     },
     "execution_count": 51,
     "metadata": {},
     "output_type": "execute_result"
    }
   ],
   "source": [
    "df['brand'].unique()"
   ]
  },
  {
   "cell_type": "code",
   "execution_count": 52,
   "id": "6f6055a9-3dc0-4f54-9e32-802b769b6175",
   "metadata": {},
   "outputs": [
    {
     "data": {
      "text/plain": [
       "Timestamp('2025-05-14 11:56:57.849127')"
      ]
     },
     "execution_count": 52,
     "metadata": {},
     "output_type": "execute_result"
    }
   ],
   "source": [
    "df['created_at'].iloc[-1]"
   ]
  },
  {
   "cell_type": "code",
   "execution_count": 53,
   "id": "014aa143-af32-454b-8586-1b178f56cf7b",
   "metadata": {},
   "outputs": [
    {
     "data": {
      "text/plain": [
       "alarm_id                     6821ec4be61713a248ac9fe5\n",
       "created_at                 2025-05-12 12:40:45.157895\n",
       "probability                                      79.0\n",
       "brand                                             JET\n",
       "business_status_numeric                             0\n",
       "Name: 0, dtype: object"
      ]
     },
     "execution_count": 53,
     "metadata": {},
     "output_type": "execute_result"
    }
   ],
   "source": [
    "df[df['brand'] == 'JET'].iloc[0]"
   ]
  },
  {
   "cell_type": "code",
   "execution_count": 55,
   "id": "88d579de-620c-4c99-b829-efd111590460",
   "metadata": {},
   "outputs": [
    {
     "name": "stdout",
     "output_type": "stream",
     "text": [
      "Количество бизнес-статусов = 1: 496\n",
      "Общее количество строк: 4889\n",
      "Процент 1: 10.15%\n"
     ]
    }
   ],
   "source": [
    "count_1 = (df[\"business_status_numeric\"] == 1).sum()\n",
    "print(f\"Количество бизнес-статусов = 1: {count_1}\")\n",
    "\n",
    "total = len(df)\n",
    "print(f\"Общее количество строк: {total}\")\n",
    "\n",
    "percent = (count_1 / total) * 100\n",
    "print(f\"Процент 1: {percent:.2f}%\")"
   ]
  },
  {
   "cell_type": "code",
   "execution_count": 56,
   "id": "369d1b28-bdbe-4ca3-a105-c692c194e3ca",
   "metadata": {},
   "outputs": [
    {
     "name": "stdout",
     "output_type": "stream",
     "text": [
      "Количество пропусков в probability: 61\n"
     ]
    }
   ],
   "source": [
    "num_missing = df[\"probability\"].isna().sum()\n",
    "\n",
    "print(f\"Количество пропусков в probability: {num_missing}\")"
   ]
  },
  {
   "cell_type": "code",
   "execution_count": 57,
   "id": "0584537f-24cd-4be3-afbc-005e81fd6286",
   "metadata": {},
   "outputs": [],
   "source": [
    "df = df.dropna(subset=[\"probability\"]).reset_index(drop=True)"
   ]
  },
  {
   "cell_type": "code",
   "execution_count": 63,
   "id": "4089cd98-5c5f-4b8a-975a-a0b6624a1c98",
   "metadata": {},
   "outputs": [
    {
     "name": "stdout",
     "output_type": "stream",
     "text": [
      "📊 Classification Report:\n",
      "              precision    recall  f1-score   support\n",
      "\n",
      "           0       1.00      0.04      0.08      4332\n",
      "           1       0.11      1.00      0.19       496\n",
      "\n",
      "    accuracy                           0.14      4828\n",
      "   macro avg       0.55      0.52      0.14      4828\n",
      "weighted avg       0.91      0.14      0.09      4828\n",
      "\n"
     ]
    },
    {
     "data": {
      "image/png": "[encoded data removed]",
      "text/plain": [
       "<Figure size 640x480 with 2 Axes>"
      ]
     },
     "metadata": {},
     "output_type": "display_data"
    }
   ],
   "source": [
    "from sklearn.metrics import classification_report, confusion_matrix, ConfusionMatrixDisplay\n",
    "import matplotlib.pyplot as plt\n",
    "\n",
    "# Конвертируем вероятности в классы\n",
    "y_pred_labels = (df[\"probability\"] >= 10).astype(int)\n",
    "\n",
    "# Оставляем только бинарные метки\n",
    "y_true = df[\"business_status_numeric\"]\n",
    "\n",
    "print(\"📊 Classification Report:\")\n",
    "print(classification_report(y_true, y_pred_labels, zero_division=0))\n",
    "\n",
    "cm = confusion_matrix(y_true, y_pred_labels, labels=[0, 1])\n",
    "disp = ConfusionMatrixDisplay(confusion_matrix=cm, display_labels=[\"Not Investigation\", \"Investigation\"])\n",
    "disp.plot(cmap=\"Blues\")\n",
    "plt.title(\"Confusion Matrix\")\n",
    "plt.show()\n"
   ]
  },
  {
   "cell_type": "code",
   "execution_count": null,
   "id": "1c7feec6-a456-48a2-befa-06b3118efd69",
   "metadata": {},
   "outputs": [],
   "source": []
  }
 ],
 "metadata": {
  "kernelspec": {
   "display_name": "Python 3 (ipykernel)",
   "language": "python",
   "name": "python3"
  },
  "language_info": {
   "codemirror_mode": {
    "name": "ipython",
    "version": 3
   },
   "file_extension": ".py",
   "mimetype": "text/x-python",
   "name": "python",
   "nbconvert_exporter": "python",
   "pygments_lexer": "ipython3",
   "version": "3.10.12"
  }
 },
 "nbformat": 4,
 "nbformat_minor": 5
}
