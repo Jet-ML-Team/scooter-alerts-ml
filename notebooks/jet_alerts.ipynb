{
 "cells": [
  {
   "metadata": {},
   "cell_type": "markdown",
   "source": "# DB connection",
   "id": "a8168ca27a9ff19"
  },
  {
   "cell_type": "code",
   "id": "initial_id",
   "metadata": {
    "collapsed": true
   },
   "source": [
    "import os\n",
    "from dotenv import load_dotenv\n",
    "from sqlalchemy import create_engine\n",
    "import pandas as pd\n",
    "from datetime import datetime\n",
    "\n",
    "# Загрузка переменных окружения\n",
    "load_dotenv()\n",
    "\n",
    "# Подключение к БД\n",
    "user = os.getenv(\"DB_USER\")\n",
    "password = os.getenv(\"DB_PASSWORD\")\n",
    "host = os.getenv(\"DB_HOST\")\n",
    "port = os.getenv(\"DB_PORT\")\n",
    "dbname = os.getenv(\"DB_NAME\")\n",
    "\n",
    "db_url = f\"postgresql://{user}:{password}@{host}:{port}/{dbname}\"\n",
    "engine = create_engine(db_url)\n",
    "\n",
    "# Пути\n",
    "os.makedirs(\"data\", exist_ok=True)\n",
    "csv_path = \"data/incidents.csv\"\n",
    "timestamp_file = \"data/last_timestamp.txt\"\n",
    "\n",
    "# Получение последнего timestamp\n",
    "if os.path.exists(timestamp_file):\n",
    "    with open(timestamp_file, \"r\") as f:\n",
    "        last_timestamp = f.read().strip()\n",
    "        print(f\"Последний timestamp из файла: {last_timestamp}\")\n",
    "    # Если нужно, приводим last_timestamp к нужному формату:\n",
    "    # last_timestamp = pd.to_datetime(last_timestamp)\n",
    "else:\n",
    "    last_timestamp = None\n",
    "    print(\"Файл с timestamp не найден, загружаем с начала\")\n",
    "\n",
    "batch_size = 1000\n",
    "total_rows_fetched = 0\n",
    "\n",
    "while True:\n",
    "    if last_timestamp:\n",
    "        # Если last_timestamp уже задан, берем строки после этого timestamp\n",
    "        query = f\"\"\"\n",
    "        SELECT id, timestamp, data, business_status\n",
    "        FROM public.incident\n",
    "        WHERE timestamp > '{last_timestamp}'\n",
    "        ORDER BY timestamp\n",
    "        LIMIT {batch_size}\n",
    "        \"\"\"\n",
    "    else:\n",
    "        # Если нет last_timestamp, пусть, к примеру, берем всё после id>10000\n",
    "        # Или, если хотим именно по timestamp — можно задать какую-то нижнюю границу\n",
    "        query = f\"\"\"\n",
    "        SELECT id, timestamp, data, business_status\n",
    "        FROM public.incident\n",
    "        WHERE id > 10000\n",
    "        ORDER BY timestamp\n",
    "        LIMIT {batch_size}\n",
    "        \"\"\"\n",
    "\n",
    "    batch_df = pd.read_sql_query(query, engine)\n",
    "\n",
    "    rows = len(batch_df)\n",
    "    if rows == 0:\n",
    "        print(\"Новых данных не найдено — выходим из цикла.\")\n",
    "        break\n",
    "    \n",
    "    # Если csv еще не существует — пишем с заголовками, иначе — без них\n",
    "    if not os.path.exists(csv_path):\n",
    "        batch_df.to_csv(csv_path, index=False, mode='w', header=True)\n",
    "    else:\n",
    "        batch_df.to_csv(csv_path, index=False, mode='a', header=False)\n",
    "    \n",
    "    # Считаем общее кол-во\n",
    "    total_rows_fetched += rows\n",
    "\n",
    "    # Обновляем last_timestamp (максимальный из текущего батча)\n",
    "    new_last_timestamp = batch_df[\"timestamp\"].max()\n",
    "    with open(timestamp_file, \"w\") as f:\n",
    "        f.write(str(new_last_timestamp))\n",
    "\n",
    "    print(f\"Выгрузили батч из {rows} строк. Новый last_timestamp={new_last_timestamp}\")\n",
    "    \n",
    "    # Для следующей итерации\n",
    "    last_timestamp = new_last_timestamp\n",
    "\n",
    "print(f\"Всего выгружено: {total_rows_fetched} строк\")\n"
   ],
   "outputs": [],
   "execution_count": null
  },
  {
   "metadata": {
    "jupyter": {
     "is_executing": true
    },
    "ExecuteTime": {
     "start_time": "2025-04-03T21:28:11.889559Z"
    }
   },
   "cell_type": "code",
   "source": "df = pd.read_csv(csv_path)",
   "id": "bed5c8529746b93c",
   "outputs": [],
   "execution_count": null
  },
  {
   "metadata": {},
   "cell_type": "code",
   "outputs": [],
   "execution_count": null,
   "source": "df.tail()",
   "id": "f68cd1788e1fd7cb"
  }
 ],
 "metadata": {
  "kernelspec": {
   "display_name": "Python 3",
   "language": "python",
   "name": "python3"
  },
  "language_info": {
   "codemirror_mode": {
    "name": "ipython",
    "version": 2
   },
   "file_extension": ".py",
   "mimetype": "text/x-python",
   "name": "python",
   "nbconvert_exporter": "python",
   "pygments_lexer": "ipython2",
   "version": "2.7.6"
  }
 },
 "nbformat": 4,
 "nbformat_minor": 5
}
